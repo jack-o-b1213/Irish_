{
 "cells": [
  {
   "cell_type": "code",
   "execution_count": 6,
   "metadata": {
    "collapsed": true
   },
   "outputs": [
    {
     "name": "stdout",
     "output_type": "stream",
     "text": [
      "C:\\Users\\rugby\\PycharmProjects\\Daft_ie_WebScraper\\data\\ppr_data_encoded.csv\n"
     ]
    },
    {
     "data": {
      "text/plain": "        Unnamed: 0  year                                       input_string  \\\n0                1  2012  ' St. Martins', Ightermurragh, Ladysbridge,Cor...   \n1                2  2012  ' The Stone House', Ballyglass Upper, Tipperar...   \n2                3  2012  'AVONDALE', MORRISTOWNBILLER, NEWBRIDGE,Kildar...   \n3                4  2012    'Abhann', 61 Dublin Road, Swords,Dublin,Ireland   \n4                5  2012        'Annesgrove', 33 Glasheen road,Cork,Ireland   \n...            ...   ...                                                ...   \n217226      217227  2017  no 27 park avenue, miullers glen, swords,Dubli...   \n217227      217228  2017  no 7 the park, drummin village, borrisokane ro...   \n217228      217229  2017  no. 3 the garden, Newtown Hall, Maynooth,Kilda...   \n217229      217230  2017  no. 7 lavender court, forest Hill, Kilnagleary...   \n217230      217231  2017          oaklands drive, longford,Longford,Ireland   \n\n         sale_date                                           address  \\\n0       18/09/2012        ' St. Martins', Ightermurragh, Ladysbridge   \n1       16/01/2012   ' The Stone House', Ballyglass Upper, Tipperary   \n2       23/01/2012           'AVONDALE', MORRISTOWNBILLER, NEWBRIDGE   \n3       12/12/2012                  'Abhann', 61 Dublin Road, Swords   \n4       25/01/2012                    'Annesgrove', 33 Glasheen road   \n...            ...                                               ...   \n217226  25/04/2017          no 27 park avenue, miullers glen, swords   \n217227  30/03/2017  no 7 the park, drummin village, borrisokane road   \n217228  26/04/2017          no. 3 the garden, Newtown Hall, Maynooth   \n217229  20/01/2017    no. 7 lavender court, forest Hill, Kilnagleary   \n217230  03/05/2017                          oaklands drive, longford   \n\n       postal_code ppr_county      price not_full_market_price vat_exclusive  \\\n0              NaN       Cork  118000.00                    No            No   \n1              NaN  Tipperary  210000.00                    No            No   \n2              NaN    Kildare  220000.00                    No            No   \n3              NaN     Dublin  496089.00                    No            No   \n4              NaN       Cork  240000.00                    No            No   \n...            ...        ...        ...                   ...           ...   \n217226         NaN     Dublin  271126.00                    No           Yes   \n217227         NaN  Tipperary  140000.00                    No           Yes   \n217228         NaN    Kildare  257268.72                    No           Yes   \n217229         NaN       Cork  310000.00                    No           Yes   \n217230         NaN   Longford  100000.00                    No           Yes   \n\n        ...            accuracy   latitude longitude  postcode  \\\n0       ...             ROOFTOP  51.898721 -8.027057       NaN   \n1       ...             ROOFTOP  52.438674 -8.171166       NaN   \n2       ...             ROOFTOP  53.178275 -6.815277       NaN   \n3       ...             ROOFTOP  53.451025 -6.225203  K67 R6W8   \n4       ...             ROOFTOP  51.884846 -8.505120  T12 P6C5   \n...     ...                 ...        ...       ...       ...   \n217226  ...    GEOMETRIC_CENTER  53.473945 -6.239782       NaN   \n217227  ...    GEOMETRIC_CENTER  52.874621 -8.201943       NaN   \n217228  ...  RANGE_INTERPOLATED  53.376834 -6.607493       NaN   \n217229  ...                 NaN        NaN       NaN       NaN   \n217230  ...    GEOMETRIC_CENTER  53.730648 -7.777460       NaN   \n\n                                                     type       geo_county  \\\n0                                                 premise             Cork   \n1                                                 premise  South Tipperary   \n2                                                 premise          Kildare   \n3                                          street_address           Fingal   \n4                                          street_address        Cork City   \n...                                                   ...              ...   \n217226                    establishment,point_of_interest           Fingal   \n217227  establishment,local_government_office,point_of...  North Tipperary   \n217228                                     street_address          Kildare   \n217229                                                NaN              NaN   \n217230                                              route         Longford   \n\n        electoral_district electoral_district_id           region small_area  \n0            Ightermurragh                 18257  South-West (IE)  047173003  \n1          Tipperary Rural                 23177  South-East (IE)  217165003  \n2         Morristownbiller                 06078         Mid-East  087069011  \n3           Swords Village                 04040           Dublin  267135002  \n4               Glasheen A                 17030  South-West (IE)  048031003  \n...                    ...                   ...              ...        ...  \n217226   Swords-Lissenhall                 04038           Dublin  267133026  \n217227   Nenagh West Urban                 22002         Mid-West  217136008  \n217228            Maynooth                 06040         Mid-East  087066019  \n217229                 NaN                   NaN              NaN        NaN  \n217230      Longford Rural                 09051          Midland  137045012  \n\n[217231 rows x 24 columns]",
      "text/html": "<div>\n<style scoped>\n    .dataframe tbody tr th:only-of-type {\n        vertical-align: middle;\n    }\n\n    .dataframe tbody tr th {\n        vertical-align: top;\n    }\n\n    .dataframe thead th {\n        text-align: right;\n    }\n</style>\n<table border=\"1\" class=\"dataframe\">\n  <thead>\n    <tr style=\"text-align: right;\">\n      <th></th>\n      <th>Unnamed: 0</th>\n      <th>year</th>\n      <th>input_string</th>\n      <th>sale_date</th>\n      <th>address</th>\n      <th>postal_code</th>\n      <th>ppr_county</th>\n      <th>price</th>\n      <th>not_full_market_price</th>\n      <th>vat_exclusive</th>\n      <th>...</th>\n      <th>accuracy</th>\n      <th>latitude</th>\n      <th>longitude</th>\n      <th>postcode</th>\n      <th>type</th>\n      <th>geo_county</th>\n      <th>electoral_district</th>\n      <th>electoral_district_id</th>\n      <th>region</th>\n      <th>small_area</th>\n    </tr>\n  </thead>\n  <tbody>\n    <tr>\n      <th>0</th>\n      <td>1</td>\n      <td>2012</td>\n      <td>' St. Martins', Ightermurragh, Ladysbridge,Cor...</td>\n      <td>18/09/2012</td>\n      <td>' St. Martins', Ightermurragh, Ladysbridge</td>\n      <td>NaN</td>\n      <td>Cork</td>\n      <td>118000.00</td>\n      <td>No</td>\n      <td>No</td>\n      <td>...</td>\n      <td>ROOFTOP</td>\n      <td>51.898721</td>\n      <td>-8.027057</td>\n      <td>NaN</td>\n      <td>premise</td>\n      <td>Cork</td>\n      <td>Ightermurragh</td>\n      <td>18257</td>\n      <td>South-West (IE)</td>\n      <td>047173003</td>\n    </tr>\n    <tr>\n      <th>1</th>\n      <td>2</td>\n      <td>2012</td>\n      <td>' The Stone House', Ballyglass Upper, Tipperar...</td>\n      <td>16/01/2012</td>\n      <td>' The Stone House', Ballyglass Upper, Tipperary</td>\n      <td>NaN</td>\n      <td>Tipperary</td>\n      <td>210000.00</td>\n      <td>No</td>\n      <td>No</td>\n      <td>...</td>\n      <td>ROOFTOP</td>\n      <td>52.438674</td>\n      <td>-8.171166</td>\n      <td>NaN</td>\n      <td>premise</td>\n      <td>South Tipperary</td>\n      <td>Tipperary Rural</td>\n      <td>23177</td>\n      <td>South-East (IE)</td>\n      <td>217165003</td>\n    </tr>\n    <tr>\n      <th>2</th>\n      <td>3</td>\n      <td>2012</td>\n      <td>'AVONDALE', MORRISTOWNBILLER, NEWBRIDGE,Kildar...</td>\n      <td>23/01/2012</td>\n      <td>'AVONDALE', MORRISTOWNBILLER, NEWBRIDGE</td>\n      <td>NaN</td>\n      <td>Kildare</td>\n      <td>220000.00</td>\n      <td>No</td>\n      <td>No</td>\n      <td>...</td>\n      <td>ROOFTOP</td>\n      <td>53.178275</td>\n      <td>-6.815277</td>\n      <td>NaN</td>\n      <td>premise</td>\n      <td>Kildare</td>\n      <td>Morristownbiller</td>\n      <td>06078</td>\n      <td>Mid-East</td>\n      <td>087069011</td>\n    </tr>\n    <tr>\n      <th>3</th>\n      <td>4</td>\n      <td>2012</td>\n      <td>'Abhann', 61 Dublin Road, Swords,Dublin,Ireland</td>\n      <td>12/12/2012</td>\n      <td>'Abhann', 61 Dublin Road, Swords</td>\n      <td>NaN</td>\n      <td>Dublin</td>\n      <td>496089.00</td>\n      <td>No</td>\n      <td>No</td>\n      <td>...</td>\n      <td>ROOFTOP</td>\n      <td>53.451025</td>\n      <td>-6.225203</td>\n      <td>K67 R6W8</td>\n      <td>street_address</td>\n      <td>Fingal</td>\n      <td>Swords Village</td>\n      <td>04040</td>\n      <td>Dublin</td>\n      <td>267135002</td>\n    </tr>\n    <tr>\n      <th>4</th>\n      <td>5</td>\n      <td>2012</td>\n      <td>'Annesgrove', 33 Glasheen road,Cork,Ireland</td>\n      <td>25/01/2012</td>\n      <td>'Annesgrove', 33 Glasheen road</td>\n      <td>NaN</td>\n      <td>Cork</td>\n      <td>240000.00</td>\n      <td>No</td>\n      <td>No</td>\n      <td>...</td>\n      <td>ROOFTOP</td>\n      <td>51.884846</td>\n      <td>-8.505120</td>\n      <td>T12 P6C5</td>\n      <td>street_address</td>\n      <td>Cork City</td>\n      <td>Glasheen A</td>\n      <td>17030</td>\n      <td>South-West (IE)</td>\n      <td>048031003</td>\n    </tr>\n    <tr>\n      <th>...</th>\n      <td>...</td>\n      <td>...</td>\n      <td>...</td>\n      <td>...</td>\n      <td>...</td>\n      <td>...</td>\n      <td>...</td>\n      <td>...</td>\n      <td>...</td>\n      <td>...</td>\n      <td>...</td>\n      <td>...</td>\n      <td>...</td>\n      <td>...</td>\n      <td>...</td>\n      <td>...</td>\n      <td>...</td>\n      <td>...</td>\n      <td>...</td>\n      <td>...</td>\n      <td>...</td>\n    </tr>\n    <tr>\n      <th>217226</th>\n      <td>217227</td>\n      <td>2017</td>\n      <td>no 27 park avenue, miullers glen, swords,Dubli...</td>\n      <td>25/04/2017</td>\n      <td>no 27 park avenue, miullers glen, swords</td>\n      <td>NaN</td>\n      <td>Dublin</td>\n      <td>271126.00</td>\n      <td>No</td>\n      <td>Yes</td>\n      <td>...</td>\n      <td>GEOMETRIC_CENTER</td>\n      <td>53.473945</td>\n      <td>-6.239782</td>\n      <td>NaN</td>\n      <td>establishment,point_of_interest</td>\n      <td>Fingal</td>\n      <td>Swords-Lissenhall</td>\n      <td>04038</td>\n      <td>Dublin</td>\n      <td>267133026</td>\n    </tr>\n    <tr>\n      <th>217227</th>\n      <td>217228</td>\n      <td>2017</td>\n      <td>no 7 the park, drummin village, borrisokane ro...</td>\n      <td>30/03/2017</td>\n      <td>no 7 the park, drummin village, borrisokane road</td>\n      <td>NaN</td>\n      <td>Tipperary</td>\n      <td>140000.00</td>\n      <td>No</td>\n      <td>Yes</td>\n      <td>...</td>\n      <td>GEOMETRIC_CENTER</td>\n      <td>52.874621</td>\n      <td>-8.201943</td>\n      <td>NaN</td>\n      <td>establishment,local_government_office,point_of...</td>\n      <td>North Tipperary</td>\n      <td>Nenagh West Urban</td>\n      <td>22002</td>\n      <td>Mid-West</td>\n      <td>217136008</td>\n    </tr>\n    <tr>\n      <th>217228</th>\n      <td>217229</td>\n      <td>2017</td>\n      <td>no. 3 the garden, Newtown Hall, Maynooth,Kilda...</td>\n      <td>26/04/2017</td>\n      <td>no. 3 the garden, Newtown Hall, Maynooth</td>\n      <td>NaN</td>\n      <td>Kildare</td>\n      <td>257268.72</td>\n      <td>No</td>\n      <td>Yes</td>\n      <td>...</td>\n      <td>RANGE_INTERPOLATED</td>\n      <td>53.376834</td>\n      <td>-6.607493</td>\n      <td>NaN</td>\n      <td>street_address</td>\n      <td>Kildare</td>\n      <td>Maynooth</td>\n      <td>06040</td>\n      <td>Mid-East</td>\n      <td>087066019</td>\n    </tr>\n    <tr>\n      <th>217229</th>\n      <td>217230</td>\n      <td>2017</td>\n      <td>no. 7 lavender court, forest Hill, Kilnagleary...</td>\n      <td>20/01/2017</td>\n      <td>no. 7 lavender court, forest Hill, Kilnagleary</td>\n      <td>NaN</td>\n      <td>Cork</td>\n      <td>310000.00</td>\n      <td>No</td>\n      <td>Yes</td>\n      <td>...</td>\n      <td>NaN</td>\n      <td>NaN</td>\n      <td>NaN</td>\n      <td>NaN</td>\n      <td>NaN</td>\n      <td>NaN</td>\n      <td>NaN</td>\n      <td>NaN</td>\n      <td>NaN</td>\n      <td>NaN</td>\n    </tr>\n    <tr>\n      <th>217230</th>\n      <td>217231</td>\n      <td>2017</td>\n      <td>oaklands drive, longford,Longford,Ireland</td>\n      <td>03/05/2017</td>\n      <td>oaklands drive, longford</td>\n      <td>NaN</td>\n      <td>Longford</td>\n      <td>100000.00</td>\n      <td>No</td>\n      <td>Yes</td>\n      <td>...</td>\n      <td>GEOMETRIC_CENTER</td>\n      <td>53.730648</td>\n      <td>-7.777460</td>\n      <td>NaN</td>\n      <td>route</td>\n      <td>Longford</td>\n      <td>Longford Rural</td>\n      <td>09051</td>\n      <td>Midland</td>\n      <td>137045012</td>\n    </tr>\n  </tbody>\n</table>\n<p>217231 rows × 24 columns</p>\n</div>"
     },
     "execution_count": 6,
     "metadata": {},
     "output_type": "execute_result"
    }
   ],
   "source": [
    "import pandas as pd\n",
    "import os\n",
    "import numpy as np\n",
    "\n",
    "data = os.path.join(os.getcwd(), 'data', 'ppr_data_encoded.csv')\n",
    "print(data)\n",
    "df = pd.read_csv(data, encoding='latin-1')\n",
    "df"
   ]
  },
  {
   "cell_type": "code",
   "execution_count": 13,
   "outputs": [
    {
     "data": {
      "text/plain": "   Unnamed: 0  year                                       input_string  \\\n0           1  2012  ' St. Martins', Ightermurragh, Ladysbridge,Cor...   \n1           2  2012  ' The Stone House', Ballyglass Upper, Tipperar...   \n2           3  2012  'AVONDALE', MORRISTOWNBILLER, NEWBRIDGE,Kildar...   \n3           4  2012    'Abhann', 61 Dublin Road, Swords,Dublin,Ireland   \n4           5  2012        'Annesgrove', 33 Glasheen road,Cork,Ireland   \n\n    sale_date                                          address postal_code  \\\n0  18/09/2012       ' St. Martins', Ightermurragh, Ladysbridge         NaN   \n1  16/01/2012  ' The Stone House', Ballyglass Upper, Tipperary         NaN   \n2  23/01/2012          'AVONDALE', MORRISTOWNBILLER, NEWBRIDGE         NaN   \n3  12/12/2012                 'Abhann', 61 Dublin Road, Swords         NaN   \n4  25/01/2012                   'Annesgrove', 33 Glasheen road         NaN   \n\n  ppr_county     price not_full_market_price vat_exclusive  ...   latitude  \\\n0       Cork  118000.0                    No            No  ...  51.898721   \n1  Tipperary  210000.0                    No            No  ...  52.438674   \n2    Kildare  220000.0                    No            No  ...  53.178275   \n3     Dublin  496089.0                    No            No  ...  53.451025   \n4       Cork  240000.0                    No            No  ...  51.884846   \n\n  longitude  postcode            type       geo_county  electoral_district  \\\n0 -8.027057       NaN         premise             Cork       Ightermurragh   \n1 -8.171166       NaN         premise  South Tipperary     Tipperary Rural   \n2 -6.815277       NaN         premise          Kildare    Morristownbiller   \n3 -6.225203  K67 R6W8  street_address           Fingal      Swords Village   \n4 -8.505120  T12 P6C5  street_address        Cork City          Glasheen A   \n\n   electoral_district_id           region small_area         area  \n0                  18257  South-West (IE)  047173003         Cork  \n1                  23177  South-East (IE)  217165003  Other areas  \n2                  06078         Mid-East  087069011  Other areas  \n3                  04040           Dublin  267135002       Dublin  \n4                  17030  South-West (IE)  048031003         Cork  \n\n[5 rows x 25 columns]",
      "text/html": "<div>\n<style scoped>\n    .dataframe tbody tr th:only-of-type {\n        vertical-align: middle;\n    }\n\n    .dataframe tbody tr th {\n        vertical-align: top;\n    }\n\n    .dataframe thead th {\n        text-align: right;\n    }\n</style>\n<table border=\"1\" class=\"dataframe\">\n  <thead>\n    <tr style=\"text-align: right;\">\n      <th></th>\n      <th>Unnamed: 0</th>\n      <th>year</th>\n      <th>input_string</th>\n      <th>sale_date</th>\n      <th>address</th>\n      <th>postal_code</th>\n      <th>ppr_county</th>\n      <th>price</th>\n      <th>not_full_market_price</th>\n      <th>vat_exclusive</th>\n      <th>...</th>\n      <th>latitude</th>\n      <th>longitude</th>\n      <th>postcode</th>\n      <th>type</th>\n      <th>geo_county</th>\n      <th>electoral_district</th>\n      <th>electoral_district_id</th>\n      <th>region</th>\n      <th>small_area</th>\n      <th>area</th>\n    </tr>\n  </thead>\n  <tbody>\n    <tr>\n      <th>0</th>\n      <td>1</td>\n      <td>2012</td>\n      <td>' St. Martins', Ightermurragh, Ladysbridge,Cor...</td>\n      <td>18/09/2012</td>\n      <td>' St. Martins', Ightermurragh, Ladysbridge</td>\n      <td>NaN</td>\n      <td>Cork</td>\n      <td>118000.0</td>\n      <td>No</td>\n      <td>No</td>\n      <td>...</td>\n      <td>51.898721</td>\n      <td>-8.027057</td>\n      <td>NaN</td>\n      <td>premise</td>\n      <td>Cork</td>\n      <td>Ightermurragh</td>\n      <td>18257</td>\n      <td>South-West (IE)</td>\n      <td>047173003</td>\n      <td>Cork</td>\n    </tr>\n    <tr>\n      <th>1</th>\n      <td>2</td>\n      <td>2012</td>\n      <td>' The Stone House', Ballyglass Upper, Tipperar...</td>\n      <td>16/01/2012</td>\n      <td>' The Stone House', Ballyglass Upper, Tipperary</td>\n      <td>NaN</td>\n      <td>Tipperary</td>\n      <td>210000.0</td>\n      <td>No</td>\n      <td>No</td>\n      <td>...</td>\n      <td>52.438674</td>\n      <td>-8.171166</td>\n      <td>NaN</td>\n      <td>premise</td>\n      <td>South Tipperary</td>\n      <td>Tipperary Rural</td>\n      <td>23177</td>\n      <td>South-East (IE)</td>\n      <td>217165003</td>\n      <td>Other areas</td>\n    </tr>\n    <tr>\n      <th>2</th>\n      <td>3</td>\n      <td>2012</td>\n      <td>'AVONDALE', MORRISTOWNBILLER, NEWBRIDGE,Kildar...</td>\n      <td>23/01/2012</td>\n      <td>'AVONDALE', MORRISTOWNBILLER, NEWBRIDGE</td>\n      <td>NaN</td>\n      <td>Kildare</td>\n      <td>220000.0</td>\n      <td>No</td>\n      <td>No</td>\n      <td>...</td>\n      <td>53.178275</td>\n      <td>-6.815277</td>\n      <td>NaN</td>\n      <td>premise</td>\n      <td>Kildare</td>\n      <td>Morristownbiller</td>\n      <td>06078</td>\n      <td>Mid-East</td>\n      <td>087069011</td>\n      <td>Other areas</td>\n    </tr>\n    <tr>\n      <th>3</th>\n      <td>4</td>\n      <td>2012</td>\n      <td>'Abhann', 61 Dublin Road, Swords,Dublin,Ireland</td>\n      <td>12/12/2012</td>\n      <td>'Abhann', 61 Dublin Road, Swords</td>\n      <td>NaN</td>\n      <td>Dublin</td>\n      <td>496089.0</td>\n      <td>No</td>\n      <td>No</td>\n      <td>...</td>\n      <td>53.451025</td>\n      <td>-6.225203</td>\n      <td>K67 R6W8</td>\n      <td>street_address</td>\n      <td>Fingal</td>\n      <td>Swords Village</td>\n      <td>04040</td>\n      <td>Dublin</td>\n      <td>267135002</td>\n      <td>Dublin</td>\n    </tr>\n    <tr>\n      <th>4</th>\n      <td>5</td>\n      <td>2012</td>\n      <td>'Annesgrove', 33 Glasheen road,Cork,Ireland</td>\n      <td>25/01/2012</td>\n      <td>'Annesgrove', 33 Glasheen road</td>\n      <td>NaN</td>\n      <td>Cork</td>\n      <td>240000.0</td>\n      <td>No</td>\n      <td>No</td>\n      <td>...</td>\n      <td>51.884846</td>\n      <td>-8.505120</td>\n      <td>T12 P6C5</td>\n      <td>street_address</td>\n      <td>Cork City</td>\n      <td>Glasheen A</td>\n      <td>17030</td>\n      <td>South-West (IE)</td>\n      <td>048031003</td>\n      <td>Cork</td>\n    </tr>\n  </tbody>\n</table>\n<p>5 rows × 25 columns</p>\n</div>"
     },
     "execution_count": 13,
     "metadata": {},
     "output_type": "execute_result"
    }
   ],
   "source": [
    "def set_region(x):\n",
    "    x = x.strip()\n",
    "    if x == 'Dublin':\n",
    "        return 'Dublin'\n",
    "    elif x == 'Cork':\n",
    "        return 'Cork'\n",
    "    elif x == 'Galway':\n",
    "        return 'Galway'\n",
    "    elif x == 'Limerick':\n",
    "        return 'Limerick'\n",
    "    elif x == 'Waterford':\n",
    "        return 'Waterford'\n",
    "    else:\n",
    "        return 'Other areas'\n",
    "\n",
    "df['area'] = df['ppr_county'].apply(lambda x: set_region(x))\n",
    "\n",
    "df.head()"
   ],
   "metadata": {
    "collapsed": false,
    "pycharm": {
     "name": "#%%\n"
    }
   }
  },
  {
   "cell_type": "code",
   "execution_count": 24,
   "outputs": [],
   "source": [
    "subset_df = df[['year', 'price', 'area']]"
   ],
   "metadata": {
    "collapsed": false,
    "pycharm": {
     "name": "#%%\n"
    }
   }
  },
  {
   "cell_type": "code",
   "execution_count": 17,
   "outputs": [
    {
     "data": {
      "text/plain": "   year     price         area\n0  2012  118000.0         Cork\n1  2012  210000.0  Other areas\n2  2012  220000.0  Other areas\n3  2012  496089.0       Dublin\n4  2012  240000.0         Cork",
      "text/html": "<div>\n<style scoped>\n    .dataframe tbody tr th:only-of-type {\n        vertical-align: middle;\n    }\n\n    .dataframe tbody tr th {\n        vertical-align: top;\n    }\n\n    .dataframe thead th {\n        text-align: right;\n    }\n</style>\n<table border=\"1\" class=\"dataframe\">\n  <thead>\n    <tr style=\"text-align: right;\">\n      <th></th>\n      <th>year</th>\n      <th>price</th>\n      <th>area</th>\n    </tr>\n  </thead>\n  <tbody>\n    <tr>\n      <th>0</th>\n      <td>2012</td>\n      <td>118000.0</td>\n      <td>Cork</td>\n    </tr>\n    <tr>\n      <th>1</th>\n      <td>2012</td>\n      <td>210000.0</td>\n      <td>Other areas</td>\n    </tr>\n    <tr>\n      <th>2</th>\n      <td>2012</td>\n      <td>220000.0</td>\n      <td>Other areas</td>\n    </tr>\n    <tr>\n      <th>3</th>\n      <td>2012</td>\n      <td>496089.0</td>\n      <td>Dublin</td>\n    </tr>\n    <tr>\n      <th>4</th>\n      <td>2012</td>\n      <td>240000.0</td>\n      <td>Cork</td>\n    </tr>\n  </tbody>\n</table>\n</div>"
     },
     "execution_count": 17,
     "metadata": {},
     "output_type": "execute_result"
    }
   ],
   "source": [
    "subset_df.head()"
   ],
   "metadata": {
    "collapsed": false,
    "pycharm": {
     "name": "#%%\n"
    }
   }
  },
  {
   "cell_type": "code",
   "execution_count": 30,
   "outputs": [
    {
     "data": {
      "text/plain": "    year         area          price\n0   2012         Cork  174008.076629\n1   2012       Dublin  280451.816690\n2   2012       Galway  166858.556824\n3   2012     Limerick  146380.130667\n4   2012  Other areas  137449.306172\n5   2012    Waterford  125207.796711\n6   2013         Cork  173956.763380\n7   2013       Dublin  326063.877421\n8   2013       Galway  155707.116533\n9   2013     Limerick  138891.635674\n10  2013  Other areas  131282.526419\n11  2013    Waterford  119106.606631\n12  2014         Cork  178322.083571\n13  2014       Dublin  363910.454222\n14  2014       Galway  156545.751658\n15  2014     Limerick  120970.223245\n16  2014  Other areas  137167.000881\n17  2014    Waterford  122179.729810\n18  2015         Cork  204722.651930\n19  2015       Dublin  350378.045523\n20  2015       Galway  168047.801965\n21  2015     Limerick  137870.311555\n22  2015  Other areas  151207.397421\n23  2015    Waterford  129890.192950\n24  2016         Cork  196370.184523\n25  2016       Dublin  398519.744050\n26  2016       Galway  190566.038234\n27  2016     Limerick  143498.270610\n28  2016  Other areas  162293.389463\n29  2016    Waterford  138870.539236\n30  2017         Cork  222191.687232\n31  2017       Dublin  403461.802417\n32  2017       Galway  204534.254481\n33  2017     Limerick  154277.108272\n34  2017  Other areas  179247.816471\n35  2017    Waterford  144419.255404",
      "text/html": "<div>\n<style scoped>\n    .dataframe tbody tr th:only-of-type {\n        vertical-align: middle;\n    }\n\n    .dataframe tbody tr th {\n        vertical-align: top;\n    }\n\n    .dataframe thead th {\n        text-align: right;\n    }\n</style>\n<table border=\"1\" class=\"dataframe\">\n  <thead>\n    <tr style=\"text-align: right;\">\n      <th></th>\n      <th>year</th>\n      <th>area</th>\n      <th>price</th>\n    </tr>\n  </thead>\n  <tbody>\n    <tr>\n      <th>0</th>\n      <td>2012</td>\n      <td>Cork</td>\n      <td>174008.076629</td>\n    </tr>\n    <tr>\n      <th>1</th>\n      <td>2012</td>\n      <td>Dublin</td>\n      <td>280451.816690</td>\n    </tr>\n    <tr>\n      <th>2</th>\n      <td>2012</td>\n      <td>Galway</td>\n      <td>166858.556824</td>\n    </tr>\n    <tr>\n      <th>3</th>\n      <td>2012</td>\n      <td>Limerick</td>\n      <td>146380.130667</td>\n    </tr>\n    <tr>\n      <th>4</th>\n      <td>2012</td>\n      <td>Other areas</td>\n      <td>137449.306172</td>\n    </tr>\n    <tr>\n      <th>5</th>\n      <td>2012</td>\n      <td>Waterford</td>\n      <td>125207.796711</td>\n    </tr>\n    <tr>\n      <th>6</th>\n      <td>2013</td>\n      <td>Cork</td>\n      <td>173956.763380</td>\n    </tr>\n    <tr>\n      <th>7</th>\n      <td>2013</td>\n      <td>Dublin</td>\n      <td>326063.877421</td>\n    </tr>\n    <tr>\n      <th>8</th>\n      <td>2013</td>\n      <td>Galway</td>\n      <td>155707.116533</td>\n    </tr>\n    <tr>\n      <th>9</th>\n      <td>2013</td>\n      <td>Limerick</td>\n      <td>138891.635674</td>\n    </tr>\n    <tr>\n      <th>10</th>\n      <td>2013</td>\n      <td>Other areas</td>\n      <td>131282.526419</td>\n    </tr>\n    <tr>\n      <th>11</th>\n      <td>2013</td>\n      <td>Waterford</td>\n      <td>119106.606631</td>\n    </tr>\n    <tr>\n      <th>12</th>\n      <td>2014</td>\n      <td>Cork</td>\n      <td>178322.083571</td>\n    </tr>\n    <tr>\n      <th>13</th>\n      <td>2014</td>\n      <td>Dublin</td>\n      <td>363910.454222</td>\n    </tr>\n    <tr>\n      <th>14</th>\n      <td>2014</td>\n      <td>Galway</td>\n      <td>156545.751658</td>\n    </tr>\n    <tr>\n      <th>15</th>\n      <td>2014</td>\n      <td>Limerick</td>\n      <td>120970.223245</td>\n    </tr>\n    <tr>\n      <th>16</th>\n      <td>2014</td>\n      <td>Other areas</td>\n      <td>137167.000881</td>\n    </tr>\n    <tr>\n      <th>17</th>\n      <td>2014</td>\n      <td>Waterford</td>\n      <td>122179.729810</td>\n    </tr>\n    <tr>\n      <th>18</th>\n      <td>2015</td>\n      <td>Cork</td>\n      <td>204722.651930</td>\n    </tr>\n    <tr>\n      <th>19</th>\n      <td>2015</td>\n      <td>Dublin</td>\n      <td>350378.045523</td>\n    </tr>\n    <tr>\n      <th>20</th>\n      <td>2015</td>\n      <td>Galway</td>\n      <td>168047.801965</td>\n    </tr>\n    <tr>\n      <th>21</th>\n      <td>2015</td>\n      <td>Limerick</td>\n      <td>137870.311555</td>\n    </tr>\n    <tr>\n      <th>22</th>\n      <td>2015</td>\n      <td>Other areas</td>\n      <td>151207.397421</td>\n    </tr>\n    <tr>\n      <th>23</th>\n      <td>2015</td>\n      <td>Waterford</td>\n      <td>129890.192950</td>\n    </tr>\n    <tr>\n      <th>24</th>\n      <td>2016</td>\n      <td>Cork</td>\n      <td>196370.184523</td>\n    </tr>\n    <tr>\n      <th>25</th>\n      <td>2016</td>\n      <td>Dublin</td>\n      <td>398519.744050</td>\n    </tr>\n    <tr>\n      <th>26</th>\n      <td>2016</td>\n      <td>Galway</td>\n      <td>190566.038234</td>\n    </tr>\n    <tr>\n      <th>27</th>\n      <td>2016</td>\n      <td>Limerick</td>\n      <td>143498.270610</td>\n    </tr>\n    <tr>\n      <th>28</th>\n      <td>2016</td>\n      <td>Other areas</td>\n      <td>162293.389463</td>\n    </tr>\n    <tr>\n      <th>29</th>\n      <td>2016</td>\n      <td>Waterford</td>\n      <td>138870.539236</td>\n    </tr>\n    <tr>\n      <th>30</th>\n      <td>2017</td>\n      <td>Cork</td>\n      <td>222191.687232</td>\n    </tr>\n    <tr>\n      <th>31</th>\n      <td>2017</td>\n      <td>Dublin</td>\n      <td>403461.802417</td>\n    </tr>\n    <tr>\n      <th>32</th>\n      <td>2017</td>\n      <td>Galway</td>\n      <td>204534.254481</td>\n    </tr>\n    <tr>\n      <th>33</th>\n      <td>2017</td>\n      <td>Limerick</td>\n      <td>154277.108272</td>\n    </tr>\n    <tr>\n      <th>34</th>\n      <td>2017</td>\n      <td>Other areas</td>\n      <td>179247.816471</td>\n    </tr>\n    <tr>\n      <th>35</th>\n      <td>2017</td>\n      <td>Waterford</td>\n      <td>144419.255404</td>\n    </tr>\n  </tbody>\n</table>\n</div>"
     },
     "execution_count": 30,
     "metadata": {},
     "output_type": "execute_result"
    }
   ],
   "source": [
    "subset_df['year'].value_counts()\n",
    "subset_df.groupby(['year', 'area'], as_index=False).agg({\n",
    "    \"price\": \"mean\",\n",
    "})\n",
    "# subset_df"
   ],
   "metadata": {
    "collapsed": false,
    "pycharm": {
     "name": "#%%\n"
    }
   }
  },
  {
   "cell_type": "code",
   "execution_count": 31,
   "outputs": [],
   "source": [
    "subset_df.groupby(['year', 'area'], as_index=False).agg({\n",
    "    \"price\": \"mean\",\n",
    "}).to_csv(os.path.join(os.getcwd(), 'data', 'dataframes', 'historical_sales.csv'))"
   ],
   "metadata": {
    "collapsed": false,
    "pycharm": {
     "name": "#%%\n"
    }
   }
  }
 ],
 "metadata": {
  "kernelspec": {
   "display_name": "Python 3",
   "language": "python",
   "name": "python3"
  },
  "language_info": {
   "codemirror_mode": {
    "name": "ipython",
    "version": 2
   },
   "file_extension": ".py",
   "mimetype": "text/x-python",
   "name": "python",
   "nbconvert_exporter": "python",
   "pygments_lexer": "ipython2",
   "version": "2.7.6"
  }
 },
 "nbformat": 4,
 "nbformat_minor": 0
}