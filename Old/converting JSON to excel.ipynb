{
 "cells": [
  {
   "cell_type": "code",
   "execution_count": 19,
   "metadata": {
    "collapsed": true
   },
   "outputs": [
    {
     "name": "stdout",
     "output_type": "stream",
     "text": [
      "Avg_Prices_2007\n",
      "Avg_Prices_2008\n",
      "Avg_Prices_2009\n",
      "Avg_Prices_2010\n",
      "Avg_Prices_2011\n",
      "Avg_Prices_2012\n",
      "Avg_Prices_2013\n",
      "Avg_Prices_2014\n",
      "Avg_Prices_2015\n",
      "Avg_Prices_2016\n",
      "Avg_Prices_2021\n"
     ]
    }
   ],
   "source": [
    "import pandas as pd\n",
    "import os\n",
    "\n",
    "data_directory = os.path.join(os.getcwd(), 'data/json')\n",
    "final_df = pd.read_json(os.path.join(os.getcwd(), 'data', 'json', 'Avg_Prices_2006.json'))\n",
    "for file in os.listdir(data_directory)[1:]:\n",
    "        print(file[:-5])\n",
    "        file_location = os.path.join(data_directory,file)\n",
    "        filename = file[:-5] + '.csv'\n",
    "        # save_directory = os.path.join(os.getcwd(), 'data', 'excel', filename)\n",
    "        temp_df = pd.read_json(file_location)\n",
    "        final_df = pd.merge(final_df, temp_df, on='region')\n",
    "        # temp_df.to_csv(save_directory)\n",
    "\n",
    "final_df.to_csv(os.path.join(os.getcwd(), 'data', 'dataframes', 'combined.csv'))"
   ]
  }
 ],
 "metadata": {
  "kernelspec": {
   "display_name": "Python 3",
   "language": "python",
   "name": "python3"
  },
  "language_info": {
   "codemirror_mode": {
    "name": "ipython",
    "version": 2
   },
   "file_extension": ".py",
   "mimetype": "text/x-python",
   "name": "python",
   "nbconvert_exporter": "python",
   "pygments_lexer": "ipython2",
   "version": "2.7.6"
  }
 },
 "nbformat": 4,
 "nbformat_minor": 0
}